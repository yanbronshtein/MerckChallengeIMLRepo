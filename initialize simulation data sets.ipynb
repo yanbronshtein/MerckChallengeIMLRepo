{
 "cells": [
  {
   "cell_type": "code",
   "execution_count": 93,
   "metadata": {},
   "outputs": [],
   "source": [
    "from sklearn.model_selection import train_test_split, GridSearchCV\n",
    "import numpy as np\n",
    "import pandas as pd"
   ]
  },
  {
   "cell_type": "code",
   "execution_count": 94,
   "metadata": {},
   "outputs": [],
   "source": [
    "\n",
    "def categoricalPoisson(x,c):\n",
    "    y = np.zeros(x.shape) \n",
    "    for i in range(len(x)):\n",
    "        if x[i]>c:\n",
    "            \n",
    "            y[i] = np.random.poisson(x[i],1)\n",
    "    return y \n",
    "\n",
    "def binomialLinear(x,c):\n",
    "    y = np.zeros(x.shape)\n",
    "    for i in range(len(x)):\n",
    "        if x[i]>c:\n",
    "            y[i] = i/20\n",
    "        else:\n",
    "            y[i] = -i/20\n",
    "    return y \n",
    "                \n",
    "x1 = np.random.normal(3,10,300)\n",
    "x2 = np.random.normal(5,1,300)\n",
    "x3 = .7*x1 + .3*x2\n",
    "x4 = .3*x1 + .7*x2\n",
    "x5 = np.random.gamma(2,2,300)\n",
    "x10 = .5*x3*x5\n",
    "x7 = np.random.poisson(3,300)\n",
    "x6 = categoricalPoisson(x1,5)\n",
    "x8 = np.random.binomial(10,.2,300)\n",
    "x9 = binomialLinear(x8,2)\n",
    "\n",
    "\n",
    "\n",
    "\n"
   ]
  },
  {
   "cell_type": "code",
   "execution_count": 95,
   "metadata": {},
   "outputs": [],
   "source": [
    "#convert y's to be binary variable\n",
    "def logisticFunction(x): # input: additive sum of a subject\n",
    "    return 1/(1+ np.exp(-x))   # output: mapping to probability using logistic function\n",
    "\n",
    "def simulateResponse(y):  #input: vector of additive sum; output vector of probability\n",
    "    for i in range(len(y)):\n",
    "        \n",
    "        p = logisticFunction(y[i])\n",
    "        val= np.random.binomial(1,p,1)\n",
    "        if val>.5:\n",
    "            y[i] = 1\n",
    "        else:\n",
    "            y[i] = 0\n",
    "    return y\n",
    " \n",
    "\n"
   ]
  },
  {
   "cell_type": "code",
   "execution_count": 96,
   "metadata": {},
   "outputs": [],
   "source": [
    "# constructing responses \n",
    "y1 = x1+x2 # include x1,x2,x3,x4\n",
    "y2 = x6+ x9+x10 # see if it detects x1 and x2 influences\n",
    "y3 = x7\n"
   ]
  },
  {
   "cell_type": "code",
   "execution_count": 97,
   "metadata": {},
   "outputs": [],
   "source": [
    "# fit random forest with y1 and all x \n",
    "\n",
    "\n",
    "y1_sim = simulateResponse(y1)\n",
    "\n",
    "y2_sim = simulateResponse(y2)\n",
    "\n",
    "y3_sim = simulateResponse(y3)"
   ]
  },
  {
   "cell_type": "code",
   "execution_count": 98,
   "metadata": {},
   "outputs": [],
   "source": [
    "new_names =[\"x1\",\"x2\",\"x3\",\"x4\",\"x5\",\"x6\",\"x7\",\"x8\",\"x9\",\"x10\",\"y\"]\n",
    "\n",
    "\n",
    "\n",
    "\n",
    "\n",
    "\n",
    "sim_df_y1 = pd.DataFrame(data = [x1, x2, x3, x4, x5, x6, x7, x8, x9, x10,y1_sim]).T\n",
    "sim_df_y1 = sim_df_y1.rename(columns={i:j for i,j in zip(sim_df_y1.columns,new_names)})\n",
    "\n",
    "\n",
    "sim_df_y2 = pd.DataFrame(data = [x1, x2, x3, x4, x5, x6, x7, x8, x9, x10,y2_sim]).T\n",
    "sim_df_y2 = sim_df_y2.rename(columns={i:j for i,j in zip(sim_df_y2.columns,new_names)})\n",
    "\n",
    "sim_df_y3 = pd.DataFrame(data = [x1, x2, x3, x4, x5, x6, x7, x8, x9, x10,y3_sim]).T\n",
    "sim_df_y3 = sim_df_y3.rename(columns={i:j for i,j in zip(sim_df_y3.columns,new_names)})"
   ]
  },
  {
   "cell_type": "code",
   "execution_count": 99,
   "metadata": {},
   "outputs": [],
   "source": [
    "sim_df_y1.to_csv(\"y1\",index=False)"
   ]
  },
  {
   "cell_type": "code",
   "execution_count": null,
   "metadata": {},
   "outputs": [],
   "source": []
  }
 ],
 "metadata": {
  "kernelspec": {
   "display_name": "Python 3",
   "language": "python",
   "name": "python3"
  },
  "language_info": {
   "codemirror_mode": {
    "name": "ipython",
    "version": 3
   },
   "file_extension": ".py",
   "mimetype": "text/x-python",
   "name": "python",
   "nbconvert_exporter": "python",
   "pygments_lexer": "ipython3",
   "version": "3.7.6"
  }
 },
 "nbformat": 4,
 "nbformat_minor": 4
}
